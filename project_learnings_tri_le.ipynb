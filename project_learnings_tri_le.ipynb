{
 "cells": [
  {
   "cell_type": "code",
   "execution_count": 1,
   "id": "a195cf9d-2fcd-47bc-a455-871d73b375da",
   "metadata": {},
   "outputs": [],
   "source": [
    "#import sqlite3\n",
    "\n",
    "#conn = sqlite3.connect('./mta_data.db')\n",
    "#df = pd.read_sql_query('select * from mta_data', conn)\n",
    "#conn.close()"
   ]
  },
  {
   "cell_type": "code",
   "execution_count": null,
   "id": "f8c5cac0-cb60-46f0-a253-458321be0825",
   "metadata": {},
   "outputs": [],
   "source": []
  }
 ],
 "metadata": {
  "kernelspec": {
   "display_name": "Python 3 (ipykernel)",
   "language": "python",
   "name": "python3"
  },
  "language_info": {
   "codemirror_mode": {
    "name": "ipython",
    "version": 3
   },
   "file_extension": ".py",
   "mimetype": "text/x-python",
   "name": "python",
   "nbconvert_exporter": "python",
   "pygments_lexer": "ipython3",
   "version": "3.8.10"
  }
 },
 "nbformat": 4,
 "nbformat_minor": 5
}
